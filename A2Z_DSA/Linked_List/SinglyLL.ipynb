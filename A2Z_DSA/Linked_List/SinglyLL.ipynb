{
 "cells": [
  {
   "cell_type": "markdown",
   "metadata": {},
   "source": [
    "### Linkedlist"
   ]
  },
  {
   "cell_type": "markdown",
   "metadata": {},
   "source": [
    "1. Creating a node class to create a node, a node will have value and next node's address \n",
    "   for a new node not assigned any position next will point ton None as we dont know its position"
   ]
  },
  {
   "cell_type": "code",
   "execution_count": 43,
   "metadata": {},
   "outputs": [
    {
     "data": {
      "text/plain": [
       "'newnode=Node(12)\\nprint(newnode.value)\\nprint(newnode.next) '"
      ]
     },
     "execution_count": 43,
     "metadata": {},
     "output_type": "execute_result"
    }
   ],
   "source": [
    "class Node:\n",
    "    def __init__(self,value,):\n",
    "        self.value=value\n",
    "        self.next=None \n",
    "\n",
    "'''newnode=Node(12)\n",
    "print(newnode.value)\n",
    "print(newnode.next) '''       "
   ]
  },
  {
   "cell_type": "markdown",
   "metadata": {},
   "source": [
    "Node class is only responsible for creating a node nut LinkedList class is responsible for creating the entire LinkedLIst"
   ]
  },
  {
   "cell_type": "code",
   "execution_count": 44,
   "metadata": {},
   "outputs": [
    {
     "data": {
      "text/plain": [
       "'class LinkedList:\\n    def __init__(self,value):                     # A LL with only one value\\n        newnode=Node(value)\\n        self.head=newnode                \\n        self.tail=newnode\\n        self.length=1 \\n\\nnewLL1=LinkedList(15)\\nprint(newLL1.head)\\nprint(newLL1.tail)\\nprint(newLL1.length)'"
      ]
     },
     "execution_count": 44,
     "metadata": {},
     "output_type": "execute_result"
    }
   ],
   "source": [
    "'''class LinkedList:\n",
    "    def __init__(self,value):                     # A LL with only one value\n",
    "        newnode=Node(value)\n",
    "        self.head=newnode                \n",
    "        self.tail=newnode\n",
    "        self.length=1 \n",
    "\n",
    "newLL1=LinkedList(15)\n",
    "print(newLL1.head)\n",
    "print(newLL1.tail)\n",
    "print(newLL1.length)'''"
   ]
  },
  {
   "cell_type": "code",
   "execution_count": 47,
   "metadata": {},
   "outputs": [
    {
     "name": "stdout",
     "output_type": "stream",
     "text": [
      "the value at index 5 is : <__main__.Node object at 0x000001FEA97E1910>\n",
      "7\n",
      "the value is 12\n",
      "the value is 45\n",
      "the value is 10\n",
      "the value is 10\n",
      "the value is 99\n",
      "the value is 20\n",
      "the value is 30\n",
      "4\n",
      "12->45->10->10->99->20->30\n",
      "4\n",
      "12\n",
      "45->10->10->99->20->30\n"
     ]
    }
   ],
   "source": [
    "class LinkedList:\n",
    "    def __init__(self):                     # An empty LL\n",
    "        self.head=None               \n",
    "        self.tail=None\n",
    "        self.length=0 \n",
    "\n",
    "    def __str__(self):\n",
    "        temp_node=self.head\n",
    "        res=''\n",
    "        while temp_node is not None:\n",
    "            res+=str(temp_node.value)\n",
    "            if temp_node.next is not None:\n",
    "                res+='->'\n",
    "            temp_node=temp_node.next\n",
    "        return res\n",
    "    \n",
    "    def prepend(self,value):                  # adding element at beginning\n",
    "        newnode=Node(value)\n",
    "        if self.head is None:\n",
    "            self.head=newnode\n",
    "            self.tail=newnode\n",
    "        else:\n",
    "            newnode.next=self.head\n",
    "            self.head=newnode\n",
    "        self.length+=1\n",
    "\n",
    "    def insert(self,value,index):\n",
    "        newnode=Node(value)\n",
    "        if index<0 or index>self.length:\n",
    "            return False\n",
    "        if index==0 and self.head==None:\n",
    "            self.head=newnode\n",
    "            self.tail=newnode\n",
    "        elif index==0:\n",
    "            newnode.next=self.head\n",
    "            self.head=newnode\n",
    "        else:\n",
    "            temp=self.head\n",
    "            for _ in range(index-1):\n",
    "                temp=temp.next\n",
    "            newnode.next=temp.next\n",
    "            temp.next=newnode\n",
    "        self.length+=1\n",
    "        return True\n",
    "\n",
    "             \n",
    "    def append(self,value):                   # adding element at end\n",
    "        newnode=Node(value)\n",
    "        if self.head is None:\n",
    "            self.head=newnode\n",
    "            self.tail=newnode\n",
    "        else:\n",
    "            self.tail.next=newnode\n",
    "            self.tail=newnode\n",
    "        self.length+=1\n",
    "\n",
    "\n",
    "    def traverse(self):\n",
    "        curr=self.head\n",
    "        while curr:    \n",
    "            print('the value is',curr.value)\n",
    "            curr=curr.next\n",
    "\n",
    "    def search(self,target):\n",
    "        curr=self.head\n",
    "        index=0\n",
    "        while curr:\n",
    "            if curr.value==target:\n",
    "                return index\n",
    "            curr=curr.next\n",
    "            index+=1\n",
    "        return -1\n",
    "\n",
    "    def get(self,index):\n",
    "        if index<-1 or index>=self.length:\n",
    "            return None\n",
    "        if index==-1:\n",
    "            return self.tail\n",
    "        temp=self.head\n",
    "        for _ in range(index):\n",
    "            temp=temp.next\n",
    "        return temp\n",
    "    \n",
    "    def set(self,index,val):\n",
    "        #using get() to get the node\n",
    "        index_node=self.get(index)\n",
    "        if index_node:\n",
    "            index_node.value=val\n",
    "            return True\n",
    "        return False\n",
    "    \n",
    "    def pop_first(self):\n",
    "        popped_node=self.head\n",
    "        if self.length==0:\n",
    "            return None\n",
    "        elif self.length==1:\n",
    "            self.head=None\n",
    "            self.tail=None\n",
    "        else:\n",
    "            self.head=self.head.next\n",
    "            popped_node.next=None    # break the link of that node\n",
    "        self.length=-1\n",
    "        return popped_node.value\n",
    "            \n",
    "\n",
    "    \n",
    "\n",
    "\n",
    "\n",
    "\n",
    "\n",
    "\n",
    "newLL=LinkedList()    # initial LL is empty\n",
    "newLL.insert(10,0)\n",
    "newLL.append(10)\n",
    "newLL.append(20)\n",
    "newLL.prepend(45)\n",
    "newLL.append(30)\n",
    "newLL.insert(99,3)\n",
    "newLL.insert(12,0)\n",
    "print(f\"the value at index 5 is : {newLL.get(5)}\")\n",
    "'''print(newLL.head.value)\n",
    "print(newLL.tail.value)'''\n",
    "print(newLL.length)\n",
    "newLL.traverse()\n",
    "print(newLL.search(99))\n",
    "print(newLL)                  # we get <__main__.LinkedList object at 0x0000025EC0FED6D0> but we want to see the LL\n",
    "#print(newLL.traverse())\n",
    "print(newLL.search(99))\n",
    "#print(newLL.traverse())     # using print( ) so None -> the value returned also prnited\n",
    "print(newLL.pop_first())\n",
    "print(newLL)"
   ]
  },
  {
   "cell_type": "markdown",
   "metadata": {},
   "source": [
    "Printing LL"
   ]
  }
 ],
 "metadata": {
  "kernelspec": {
   "display_name": "Python 3",
   "language": "python",
   "name": "python3"
  },
  "language_info": {
   "codemirror_mode": {
    "name": "ipython",
    "version": 3
   },
   "file_extension": ".py",
   "mimetype": "text/x-python",
   "name": "python",
   "nbconvert_exporter": "python",
   "pygments_lexer": "ipython3",
   "version": "3.11.5"
  }
 },
 "nbformat": 4,
 "nbformat_minor": 2
}
