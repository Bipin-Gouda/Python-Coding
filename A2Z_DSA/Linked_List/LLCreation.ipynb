{
 "cells": [
  {
   "cell_type": "markdown",
   "metadata": {},
   "source": [
    "### Linkedlist"
   ]
  },
  {
   "cell_type": "markdown",
   "metadata": {},
   "source": [
    "1. Creating a node class to create a node, a node will have value and next node's address \n",
    "   for a new node not assigned any position next will point ton None as we dont know its position"
   ]
  },
  {
   "cell_type": "code",
   "execution_count": 1,
   "metadata": {},
   "outputs": [
    {
     "name": "stdout",
     "output_type": "stream",
     "text": [
      "12\n",
      "None\n"
     ]
    }
   ],
   "source": [
    "class Node:\n",
    "    def __init__(self,value,):\n",
    "        self.value=value\n",
    "        self.next=None \n",
    "\n",
    "newnode=Node(12)\n",
    "print(newnode.value)\n",
    "print(newnode.next)        "
   ]
  },
  {
   "cell_type": "markdown",
   "metadata": {},
   "source": [
    "Node class is only responsible for creating a node nut LinkedList class is responsible for creating the entire LinkedLIst"
   ]
  },
  {
   "cell_type": "code",
   "execution_count": 2,
   "metadata": {},
   "outputs": [
    {
     "name": "stdout",
     "output_type": "stream",
     "text": [
      "<__main__.Node object at 0x000001A6886093D0>\n",
      "<__main__.Node object at 0x000001A6886093D0>\n",
      "1\n"
     ]
    }
   ],
   "source": [
    "class LinkedList:\n",
    "    def __init__(self,value):                     # A LL with only one value\n",
    "        newnode=Node(value)\n",
    "        self.head=newnode                \n",
    "        self.tail=newnode\n",
    "        self.length=1 \n",
    "\n",
    "newnode2=LinkedList(15)\n",
    "print(newnode2.head)\n",
    "print(newnode2.tail)\n",
    "print(newnode2.length)"
   ]
  },
  {
   "cell_type": "code",
   "execution_count": 6,
   "metadata": {},
   "outputs": [
    {
     "name": "stdout",
     "output_type": "stream",
     "text": [
      "10\n",
      "20\n",
      "2\n"
     ]
    }
   ],
   "source": [
    "class LinkedList:\n",
    "    def __init__(self):                     # An empty LL\n",
    "        self.head=None               \n",
    "        self.tail=None\n",
    "        self.length=0 \n",
    "\n",
    "    def append(self,value):\n",
    "        newnode=Node(value)\n",
    "        if self.head is None:\n",
    "            self.head=newnode\n",
    "            self.tail=newnode\n",
    "        else:\n",
    "            self.tail.next=newnode\n",
    "            self.tail=newnode\n",
    "        self.length+=1\n",
    "\n",
    "\n",
    "\n",
    "newnode2=LinkedList()    # initial LL is empty\n",
    "newnode2.append(10)\n",
    "newnode2.append(20)\n",
    "print(newnode2.head.value)\n",
    "print(newnode2.tail.value)\n",
    "print(newnode2.length)\n"
   ]
  }
 ],
 "metadata": {
  "kernelspec": {
   "display_name": "Python 3",
   "language": "python",
   "name": "python3"
  },
  "language_info": {
   "codemirror_mode": {
    "name": "ipython",
    "version": 3
   },
   "file_extension": ".py",
   "mimetype": "text/x-python",
   "name": "python",
   "nbconvert_exporter": "python",
   "pygments_lexer": "ipython3",
   "version": "3.11.5"
  }
 },
 "nbformat": 4,
 "nbformat_minor": 2
}
